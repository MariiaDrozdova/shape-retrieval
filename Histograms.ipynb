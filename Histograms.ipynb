{
 "cells": [
  {
   "cell_type": "code",
   "execution_count": 1,
   "metadata": {},
   "outputs": [],
   "source": [
    "from gabor_feature import get_feature_vector\n",
    "import cv2\n",
    "import os\n",
    "from collections import *\n",
    "import numpy as np\n",
    "from sklearn.cluster import KMeans\n",
    "\n",
    "_k = 8\n",
    "_n = 4\n",
    "_samples = 16\n",
    "_w0 = 0.13\n",
    "_folder_views = \"images/\"\n",
    "_n_clusters = 10\n",
    "\n",
    "def getAllViews():\n",
    "    l = os.listdir(_folder_views)\n",
    "    all_views = []\n",
    "    for i in l:\n",
    "        all_views.append(_folder_views + i)\n",
    "    return all_views"
   ]
  },
  {
   "cell_type": "code",
   "execution_count": 2,
   "metadata": {},
   "outputs": [],
   "source": [
    "img = cv2.imread(\"sketches/888.png\", cv2.COLOR_RGB2GRAY)\n",
    "basic_views = [\"images/m508_outfile_10.jpg\"]"
   ]
  },
  {
   "cell_type": "code",
   "execution_count": 3,
   "metadata": {},
   "outputs": [],
   "source": [
    "import tqdm"
   ]
  },
  {
   "cell_type": "code",
   "execution_count": 4,
   "metadata": {},
   "outputs": [
    {
     "name": "stderr",
     "output_type": "stream",
     "text": [
      "100%|██████████| 11/11 [00:08<00:00,  1.32it/s]\n"
     ]
    }
   ],
   "source": [
    "features = []\n",
    "features_per_objectview = []\n",
    "names = []\n",
    "basic_views = getAllViews()\n",
    "for basic_view in tqdm.tqdm(basic_views[:11]):\n",
    "    sketch = cv2.Canny(cv2.imread(basic_view, 0), 100, 200)\n",
    "    if np.sum(sketch) == 0:\n",
    "        continue\n",
    "    features_objectview = get_feature_vector(sketch, k=_k, n=_n, samples=_samples)\n",
    "    features.extend(features_objectview )\n",
    "    features_per_objectview.append(features_objectview)\n",
    "    names.append(basic_view)\n",
    "kmeans = KMeans(n_clusters=_n_clusters, random_state=0).fit(features)"
   ]
  },
  {
   "cell_type": "code",
   "execution_count": 5,
   "metadata": {},
   "outputs": [],
   "source": [
    "def createHistogram(centers):\n",
    "    h = Counter()\n",
    "    for i in centers:\n",
    "        h[i] += 1\n",
    "    h = dict(sorted(h.items()))\n",
    "    return h\n",
    "\n",
    "def createHistograms(kmeans, features_per_objectview):\n",
    "    histograms = []\n",
    "    for feature_objectview in features_per_objectview:\n",
    "        histograms.append(createHistogram(kmeans.predict(feature_objectview)))\n",
    "    histograms.sort(key=lambda x: [(i, x[i]) for i in x.keys()])\n",
    "    return histograms\n",
    "\n",
    "def processSketchHistogram(h,N,f):\n",
    "    hi_sum = np.sum(list(h.values()))\n",
    "    print(hi_sum)\n",
    "\n",
    "    for j in h.keys():    \n",
    "        h[j] = h[j]/hi_sum*np.log(N/f[j])\n",
    "    h_sum = np.sum([i**2 for i in h.values()])\n",
    "    for j in h.keys():\n",
    "        h[j] = h[j]/h_sum\n",
    "    print(h)"
   ]
  },
  {
   "cell_type": "code",
   "execution_count": 6,
   "metadata": {},
   "outputs": [],
   "source": [
    "histograms = createHistograms(kmeans, features_per_objectview)"
   ]
  },
  {
   "cell_type": "code",
   "execution_count": 7,
   "metadata": {},
   "outputs": [
    {
     "data": {
      "text/plain": [
       "[{0: 2, 1: 24, 2: 13, 3: 24, 4: 25, 5: 11, 6: 15, 7: 6, 8: 14, 9: 7},\n",
       " {0: 4, 1: 20, 2: 8, 3: 2, 4: 4, 5: 33, 6: 4, 7: 8, 8: 13, 9: 8},\n",
       " {0: 4, 1: 27, 2: 26, 3: 18, 4: 3, 5: 26, 6: 15, 7: 30, 8: 22, 9: 12},\n",
       " {0: 8, 1: 30, 2: 19, 3: 24, 4: 32, 5: 13, 6: 6, 7: 7, 8: 15, 9: 13},\n",
       " {0: 10, 1: 11, 2: 5, 3: 24, 4: 16, 5: 27, 6: 54, 7: 20, 8: 58, 9: 5},\n",
       " {0: 14, 1: 4, 2: 15, 3: 19, 4: 14, 5: 21, 6: 16, 7: 20, 8: 24, 9: 18},\n",
       " {0: 14, 1: 5, 2: 22, 3: 11, 4: 20, 5: 10, 6: 17, 7: 27, 8: 37, 9: 14},\n",
       " {0: 16, 3: 72, 4: 4, 5: 35, 6: 36, 7: 11, 8: 31, 9: 19},\n",
       " {0: 18, 1: 6, 2: 15, 3: 3, 4: 11, 6: 4, 7: 13, 8: 18, 9: 25},\n",
       " {0: 19, 1: 38, 2: 23, 3: 4, 4: 42, 6: 1, 7: 19, 8: 15, 9: 7},\n",
       " {1: 24, 2: 20, 3: 4, 4: 19, 6: 4, 7: 1, 8: 5}]"
      ]
     },
     "execution_count": 7,
     "metadata": {},
     "output_type": "execute_result"
    }
   ],
   "source": [
    "histograms"
   ]
  },
  {
   "cell_type": "code",
   "execution_count": 11,
   "metadata": {},
   "outputs": [],
   "source": [
    "N = len(histograms)\n",
    "f = np.zeros(kmeans.n_clusters)\n",
    "for h in histograms:\n",
    "    for j in h.keys():\n",
    "        f[j] = (f[j] + 1)\n"
   ]
  },
  {
   "cell_type": "code",
   "execution_count": 12,
   "metadata": {},
   "outputs": [],
   "source": [
    "example = np.random.random([_samples*_samples, _n**2*_k])"
   ]
  },
  {
   "cell_type": "code",
   "execution_count": 13,
   "metadata": {},
   "outputs": [],
   "source": [
    "#f = f/np.sum(f)"
   ]
  },
  {
   "cell_type": "code",
   "execution_count": 14,
   "metadata": {},
   "outputs": [],
   "source": [
    "histogram_for_sketch = createHistogram(kmeans.predict(example))\n",
    "    "
   ]
  },
  {
   "cell_type": "code",
   "execution_count": 15,
   "metadata": {},
   "outputs": [
    {
     "data": {
      "text/plain": [
       "{1: 5, 3: 67, 5: 31, 6: 1, 8: 152}"
      ]
     },
     "execution_count": 15,
     "metadata": {},
     "output_type": "execute_result"
    }
   ],
   "source": [
    "histogram_for_sketch"
   ]
  },
  {
   "cell_type": "code",
   "execution_count": 16,
   "metadata": {},
   "outputs": [
    {
     "name": "stdout",
     "output_type": "stream",
     "text": [
      "{1: 5, 3: 67, 5: 31, 6: 1, 8: 152}\n",
      "256\n",
      "{1: 1.2488847146113295, 3: 0.0, 5: 25.871469208354064, 6: 0.0, 8: 0.0}\n"
     ]
    }
   ],
   "source": [
    "print(histogram_for_sketch)\n",
    "processSketchHistogram(histogram_for_sketch, N, f)"
   ]
  },
  {
   "cell_type": "code",
   "execution_count": null,
   "metadata": {},
   "outputs": [],
   "source": [
    "class RangedHistograms():\n",
    "    def __init__(self, length):\n",
    "        self.histograms = []\n",
    "        self.max_len = length\n",
    "        \n",
    "    def add(self, h):\n",
    "        if len(self.histograms) == 0:\n",
    "            self.histograms.append(h)\n",
    "        else:\n",
    "            for i in list(h.keys):\n",
    "                print(i)\n",
    "            \n",
    "    def show(self):\n",
    "        print(self.histograms)\n",
    "            \n",
    "t = RangedHistograms(10)\n",
    "t.add(histograms[0])\n",
    "t.show()\n",
    "t.add(histograms[1])"
   ]
  },
  {
   "cell_type": "code",
   "execution_count": null,
   "metadata": {},
   "outputs": [],
   "source": []
  }
 ],
 "metadata": {
  "kernelspec": {
   "display_name": "Python 3",
   "language": "python",
   "name": "python3"
  },
  "language_info": {
   "codemirror_mode": {
    "name": "ipython",
    "version": 3
   },
   "file_extension": ".py",
   "mimetype": "text/x-python",
   "name": "python",
   "nbconvert_exporter": "python",
   "pygments_lexer": "ipython3",
   "version": "3.6.5"
  }
 },
 "nbformat": 4,
 "nbformat_minor": 2
}
