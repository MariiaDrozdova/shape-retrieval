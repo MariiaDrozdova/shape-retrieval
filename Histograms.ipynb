{
 "cells": [
  {
   "cell_type": "code",
   "execution_count": 217,
   "metadata": {},
   "outputs": [],
   "source": [
    "from gabor_feature import get_feature_vector\n",
    "import cv2\n",
    "import os\n",
    "from collections import *\n",
    "import numpy as np\n",
    "from sklearn.cluster import KMeans\n",
    "\n",
    "_k = 4\n",
    "_n = 4\n",
    "_w0 = 0.13\n",
    "_folder_views = \"images/\"\n",
    "_n_clusters = 10\n",
    "\n",
    "def getAllViews():\n",
    "    l = os.listdir(_folder_views)\n",
    "    all_views = []\n",
    "    for i in l:\n",
    "        all_views.append(_folder_views + i)\n",
    "    return all_views"
   ]
  },
  {
   "cell_type": "code",
   "execution_count": 97,
   "metadata": {},
   "outputs": [],
   "source": [
    "img = cv2.imread(\"sketches/888.png\", cv2.COLOR_RGB2GRAY)\n",
    "basic_views = [\"images/m508_outfile_10.jpg\"]"
   ]
  },
  {
   "cell_type": "code",
   "execution_count": 152,
   "metadata": {},
   "outputs": [],
   "source": [
    "import tqdm"
   ]
  },
  {
   "cell_type": "code",
   "execution_count": 191,
   "metadata": {},
   "outputs": [
    {
     "name": "stderr",
     "output_type": "stream",
     "text": [
      "100%|██████████| 11/11 [00:00<00:00, 18.75it/s]\n"
     ]
    }
   ],
   "source": [
    "features = []\n",
    "features_per_objectview = []\n",
    "names = []\n",
    "basic_views = getAllViews()\n",
    "for basic_view in tqdm.tqdm(basic_views[:11]):\n",
    "    sketch = cv2.Canny(cv2.imread(basic_view, 0), 100, 200)\n",
    "    if np.sum(sketch) == 0:\n",
    "        continue\n",
    "    features_objectview = [get_feature_vector(sketch, k=_k, n=_n, w0=_w0), get_feature_vector(sketch, k=_k, n=_n, w0=_w0*5)]\n",
    "    features.extend(features_objectview )\n",
    "    features_per_objectview.append(features_objectview)\n",
    "    names.append(basic_view)\n",
    "kmeans = KMeans(n_clusters=_n_clusters, random_state=0).fit(features)"
   ]
  },
  {
   "cell_type": "code",
   "execution_count": 300,
   "metadata": {},
   "outputs": [],
   "source": [
    "def createHistogram(centers):\n",
    "    h = Counter()\n",
    "    for i in centers:\n",
    "        h[i] += 1\n",
    "    h = dict(sorted(h.items()))\n",
    "    return h\n",
    "\n",
    "def createHistograms(kmeans, features_per_objectview):\n",
    "    histograms = []\n",
    "    for feature_objectview in features_per_objectview:\n",
    "        histograms.append(createHistogram(kmeans.predict(feature_objectview)))\n",
    "    histograms.sort(key=lambda x: [(i, x[i]) for i in x.keys()])\n",
    "    return histograms\n",
    "\n",
    "def processSketchHistogram(h,N,f):\n",
    "    hi_sum = np.sum(list(h.values()))\n",
    "    for j in h.keys():\n",
    "        h[j] = h[j]/hi_sum*np.log(N/f[j])\n",
    "    h_sum = np.sum([i**2 for i in h.values()])\n",
    "    for j in h.keys():\n",
    "        h[j] = h[j]/h_sum\n",
    "    print(h)"
   ]
  },
  {
   "cell_type": "code",
   "execution_count": 301,
   "metadata": {},
   "outputs": [
    {
     "name": "stdout",
     "output_type": "stream",
     "text": [
      "{0: 1.3136954291957648, 3: 0.04606891079797685, 8: 0.3355943922291999, 9: 0.3355943922291999}\n",
      "{0: 0.6047513817734528, 3: 0.006973296396863222, 8: 0.10983149046876829, 9: 0.10983149046876829}\n"
     ]
    }
   ],
   "source": [
    "print(histogram_for_sketch)\n",
    "processSketchHistogram(histogram_for_sketch, N, f)"
   ]
  },
  {
   "cell_type": "code",
   "execution_count": 264,
   "metadata": {},
   "outputs": [],
   "source": [
    "histograms = createHistograms(kmeans, features_per_objectview)"
   ]
  },
  {
   "cell_type": "code",
   "execution_count": 265,
   "metadata": {},
   "outputs": [
    {
     "data": {
      "text/plain": [
       "[{0: 1, 3: 1},\n",
       " {1: 1, 8: 1},\n",
       " {1: 1, 8: 1},\n",
       " {2: 2},\n",
       " {3: 2},\n",
       " {3: 2},\n",
       " {4: 1, 7: 1},\n",
       " {5: 2},\n",
       " {6: 2},\n",
       " {7: 2},\n",
       " {9: 2}]"
      ]
     },
     "execution_count": 265,
     "metadata": {},
     "output_type": "execute_result"
    }
   ],
   "source": [
    "histograms"
   ]
  },
  {
   "cell_type": "code",
   "execution_count": 266,
   "metadata": {},
   "outputs": [],
   "source": [
    "N = len(histograms)\n",
    "f = np.zeros(kmeans.n_clusters)\n",
    "for h in histograms:\n",
    "    for j in h.keys():\n",
    "        f[j] = f[j] + h[j]"
   ]
  },
  {
   "cell_type": "code",
   "execution_count": 267,
   "metadata": {},
   "outputs": [
    {
     "data": {
      "text/plain": [
       "array([1., 2., 2., 5., 1., 2., 2., 3., 2., 2.])"
      ]
     },
     "execution_count": 267,
     "metadata": {},
     "output_type": "execute_result"
    }
   ],
   "source": [
    "f"
   ]
  },
  {
   "cell_type": "code",
   "execution_count": 283,
   "metadata": {},
   "outputs": [],
   "source": [
    "example = np.random.random([6, _n**2*_k])"
   ]
  },
  {
   "cell_type": "code",
   "execution_count": 284,
   "metadata": {},
   "outputs": [],
   "source": [
    "histogram_for_sketch = createHistogram(kmeans.predict(example))\n",
    "    "
   ]
  },
  {
   "cell_type": "code",
   "execution_count": 280,
   "metadata": {},
   "outputs": [
    {
     "data": {
      "text/plain": [
       "[{1: 3, 3: 2, 8: 1}]"
      ]
     },
     "execution_count": 280,
     "metadata": {},
     "output_type": "execute_result"
    }
   ],
   "source": [
    "histogram_for_sketch"
   ]
  },
  {
   "cell_type": "code",
   "execution_count": 161,
   "metadata": {},
   "outputs": [
    {
     "data": {
      "text/plain": [
       "[{0: 1, 2: 1, 5: 2, 7: 2},\n",
       " {0: 1, 3: 1, 5: 1, 7: 1, 8: 2},\n",
       " {2: 1, 3: 2, 5: 1, 7: 2},\n",
       " {2: 2, 6: 1, 7: 2, 8: 1},\n",
       " {2: 2, 7: 3, 8: 1},\n",
       " {3: 1, 4: 1, 5: 1, 6: 2, 7: 1},\n",
       " {5: 1, 6: 2, 7: 3},\n",
       " {5: 2, 6: 3, 7: 1},\n",
       " {5: 2, 7: 3, 8: 1}]"
      ]
     },
     "execution_count": 161,
     "metadata": {},
     "output_type": "execute_result"
    }
   ],
   "source": [
    "histograms"
   ]
  },
  {
   "cell_type": "code",
   "execution_count": 134,
   "metadata": {},
   "outputs": [
    {
     "name": "stdout",
     "output_type": "stream",
     "text": [
      "[{0: 3, 6: 1, 8: 1, 1: 1}]\n"
     ]
    },
    {
     "ename": "TypeError",
     "evalue": "'builtin_function_or_method' object is not iterable",
     "output_type": "error",
     "traceback": [
      "\u001b[0;31m---------------------------------------------------------------------------\u001b[0m",
      "\u001b[0;31mTypeError\u001b[0m                                 Traceback (most recent call last)",
      "\u001b[0;32m<ipython-input-134-0d4e8034459d>\u001b[0m in \u001b[0;36m<module>\u001b[0;34m()\u001b[0m\n\u001b[1;32m     17\u001b[0m \u001b[0mt\u001b[0m\u001b[0;34m.\u001b[0m\u001b[0madd\u001b[0m\u001b[0;34m(\u001b[0m\u001b[0mhistograms\u001b[0m\u001b[0;34m[\u001b[0m\u001b[0;36m0\u001b[0m\u001b[0;34m]\u001b[0m\u001b[0;34m)\u001b[0m\u001b[0;34m\u001b[0m\u001b[0m\n\u001b[1;32m     18\u001b[0m \u001b[0mt\u001b[0m\u001b[0;34m.\u001b[0m\u001b[0mshow\u001b[0m\u001b[0;34m(\u001b[0m\u001b[0;34m)\u001b[0m\u001b[0;34m\u001b[0m\u001b[0m\n\u001b[0;32m---> 19\u001b[0;31m \u001b[0mt\u001b[0m\u001b[0;34m.\u001b[0m\u001b[0madd\u001b[0m\u001b[0;34m(\u001b[0m\u001b[0mhistograms\u001b[0m\u001b[0;34m[\u001b[0m\u001b[0;36m1\u001b[0m\u001b[0;34m]\u001b[0m\u001b[0;34m)\u001b[0m\u001b[0;34m\u001b[0m\u001b[0m\n\u001b[0m",
      "\u001b[0;32m<ipython-input-134-0d4e8034459d>\u001b[0m in \u001b[0;36madd\u001b[0;34m(self, h)\u001b[0m\n\u001b[1;32m      8\u001b[0m             \u001b[0mself\u001b[0m\u001b[0;34m.\u001b[0m\u001b[0mhistograms\u001b[0m\u001b[0;34m.\u001b[0m\u001b[0mappend\u001b[0m\u001b[0;34m(\u001b[0m\u001b[0mh\u001b[0m\u001b[0;34m)\u001b[0m\u001b[0;34m\u001b[0m\u001b[0m\n\u001b[1;32m      9\u001b[0m         \u001b[0;32melse\u001b[0m\u001b[0;34m:\u001b[0m\u001b[0;34m\u001b[0m\u001b[0m\n\u001b[0;32m---> 10\u001b[0;31m             \u001b[0;32mfor\u001b[0m \u001b[0mi\u001b[0m \u001b[0;32min\u001b[0m \u001b[0mlist\u001b[0m\u001b[0;34m(\u001b[0m\u001b[0mh\u001b[0m\u001b[0;34m.\u001b[0m\u001b[0mkeys\u001b[0m\u001b[0;34m)\u001b[0m\u001b[0;34m:\u001b[0m\u001b[0;34m\u001b[0m\u001b[0m\n\u001b[0m\u001b[1;32m     11\u001b[0m                 \u001b[0mprint\u001b[0m\u001b[0;34m(\u001b[0m\u001b[0mi\u001b[0m\u001b[0;34m)\u001b[0m\u001b[0;34m\u001b[0m\u001b[0m\n\u001b[1;32m     12\u001b[0m \u001b[0;34m\u001b[0m\u001b[0m\n",
      "\u001b[0;31mTypeError\u001b[0m: 'builtin_function_or_method' object is not iterable"
     ]
    }
   ],
   "source": [
    "class RangedHistograms():\n",
    "    def __init__(self, length):\n",
    "        self.histograms = []\n",
    "        self.max_len = length\n",
    "        \n",
    "    def add(self, h):\n",
    "        if len(self.histograms) == 0:\n",
    "            self.histograms.append(h)\n",
    "        else:\n",
    "            for i in list(h.keys):\n",
    "                print(i)\n",
    "            \n",
    "    def show(self):\n",
    "        print(self.histograms)\n",
    "            \n",
    "t = RangedHistograms(10)\n",
    "t.add(histograms[0])\n",
    "t.show()\n",
    "t.add(histograms[1])"
   ]
  },
  {
   "cell_type": "code",
   "execution_count": null,
   "metadata": {},
   "outputs": [],
   "source": []
  }
 ],
 "metadata": {
  "kernelspec": {
   "display_name": "Python 3",
   "language": "python",
   "name": "python3"
  },
  "language_info": {
   "codemirror_mode": {
    "name": "ipython",
    "version": 3
   },
   "file_extension": ".py",
   "mimetype": "text/x-python",
   "name": "python",
   "nbconvert_exporter": "python",
   "pygments_lexer": "ipython3",
   "version": "3.6.5"
  }
 },
 "nbformat": 4,
 "nbformat_minor": 2
}
