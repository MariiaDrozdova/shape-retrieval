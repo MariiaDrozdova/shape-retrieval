{
 "cells": [
  {
   "cell_type": "code",
   "execution_count": 1,
   "metadata": {},
   "outputs": [],
   "source": [
    "import sys\n",
    "from OpenGL.GL import * \n",
    "from OpenGL.GLU import * \n",
    "from OpenGL.GLUT import * "
   ]
  },
  {
   "cell_type": "code",
   "execution_count": 2,
   "metadata": {},
   "outputs": [],
   "source": [
    "# Процедура инициализации\n",
    "def init():\n",
    "    global xrot         # Величина вращения по оси x\n",
    "    global yrot         # Величина вращения по оси y\n",
    "    global ambient      # Рассеянное освещение\n",
    "    global greencolor   # Цвет елочных иголок\n",
    "    global treecolor    # Цвет елочного ствола\n",
    "    global lightpos     # Положение источника освещения\n",
    "\n",
    "    xrot = 0.0                          # Величина вращения по оси x = 0\n",
    "    yrot = 0.0                          # Величина вращения по оси y = 0\n",
    "    ambient = (1.0, 1.0, 1.0, 1)        # Первые три числа - цвет в формате RGB, а последнее - яркость\n",
    "    greencolor = (0.2, 0.8, 0.0, 0.8)   # Зеленый цвет для иголок\n",
    "    treecolor = (0.9, 0.6, 0.3, 0.8)    # Коричневый цвет для ствола\n",
    "    lightpos = (1.0, 1.0, 1.0)          # Положение источника освещения по осям xyz\n",
    "\n",
    "    glClearColor(0.5, 0.5, 0.5, 1.0)                # Серый цвет для первоначальной закраски\n",
    "    gluOrtho2D(-1.0, 1.0, -1.0, 1.0)                # Определяем границы рисования по горизонтали и вертикали\n",
    "    glRotatef(-90, 1.0, 0.0, 0.0)                   # Сместимся по оси Х на 90 градусов\n",
    "    glLightModelfv(GL_LIGHT_MODEL_AMBIENT, ambient) # Определяем текущую модель освещения\n",
    "    glEnable(GL_LIGHTING)                           # Включаем освещение\n",
    "    glEnable(GL_LIGHT0)                             # Включаем один источник света\n",
    "    glLightfv(GL_LIGHT0, GL_POSITION, lightpos)     # Определяем положение источника света\n",
    "\n",
    "def specialkeys(key, x, y):\n",
    "    global xrot\n",
    "    global yrot\n",
    "    # Обработчики для клавиш со стрелками\n",
    "    if key == GLUT_KEY_UP:      # Клавиша вверх\n",
    "        xrot -= 2.0             # Уменьшаем угол вращения по оси X\n",
    "    if key == GLUT_KEY_DOWN:    # Клавиша вниз\n",
    "        xrot += 2.0             # Увеличиваем угол вращения по оси X\n",
    "    if key == GLUT_KEY_LEFT:    # Клавиша влево\n",
    "        yrot -= 2.0             # Уменьшаем угол вращения по оси Y\n",
    "    if key == GLUT_KEY_RIGHT:   # Клавиша вправо\n",
    "        yrot += 2.0             # Увеличиваем угол вращения по оси Y\n",
    "\n",
    "    glutPostRedisplay()         # Вызываем процедуру перерисовки\n",
    "    \n",
    "\n",
    "#glutMainLoop()"
   ]
  },
  {
   "cell_type": "code",
   "execution_count": 3,
   "metadata": {},
   "outputs": [],
   "source": [
    "def read_off(file):\n",
    "    if 'OFF' != file.readline().strip():\n",
    "        raise('Not a valid OFF header')\n",
    "    n_verts, n_faces, n_dontknow = tuple([int(s) for s in file.readline().strip().split(' ')])\n",
    "    verts = [[float(s) for s in file.readline().strip().split(' ')] for i_vert in range(n_verts)]\n",
    "    faces = [[int(s) for s in file.readline().strip().split(' ')][1:] for i_face in range(n_faces)]\n",
    "    return verts, faces"
   ]
  },
  {
   "cell_type": "code",
   "execution_count": 4,
   "metadata": {},
   "outputs": [],
   "source": [
    "verts, faces = read_off(open(\"models/m2.off\"))"
   ]
  },
  {
   "cell_type": "code",
   "execution_count": 5,
   "metadata": {},
   "outputs": [],
   "source": [
    "def read3D(verticies,surfaces):\n",
    "    glBegin(3)\n",
    "    for surface in surfaces:\n",
    "        for vertex in surface:\n",
    "            glVertex3fv(verticies[vertex])\n",
    "    glEnd()"
   ]
  },
  {
   "cell_type": "code",
   "execution_count": 6,
   "metadata": {},
   "outputs": [
    {
     "data": {
      "text/plain": [
       "[b'/home/masha/anaconda3/lib/python3.6/site-packages/ipykernel_launcher.py',\n",
       " b'-f',\n",
       " b'/run/user/1000/jupyter/kernel-03875841-f56f-463b-b272-eed5ab7d5d6d.json']"
      ]
     },
     "execution_count": 6,
     "metadata": {},
     "output_type": "execute_result"
    }
   ],
   "source": [
    "glutInitDisplayMode(GLUT_DOUBLE | GLUT_RGB) \n",
    "glutInitWindowSize(300, 300)\n",
    "glutInitWindowPosition(50, 50)\n",
    "glutInit(sys.argv)\n",
    "#glClearColor(0.2, 0.8, 0.0, 1.0) "
   ]
  },
  {
   "cell_type": "code",
   "execution_count": 7,
   "metadata": {},
   "outputs": [],
   "source": [
    "read3D(verts,faces)"
   ]
  },
  {
   "cell_type": "code",
   "execution_count": null,
   "metadata": {},
   "outputs": [],
   "source": [
    "\n",
    "glutCreateWindow(b\"Happy project!\")\n",
    "glutDisplayFunc(read3D(verts,faces))\n",
    "glutIdleFunc(read3D(verts,faces))\n",
    "glutMainLoop()"
   ]
  },
  {
   "cell_type": "code",
   "execution_count": null,
   "metadata": {},
   "outputs": [],
   "source": []
  }
 ],
 "metadata": {
  "kernelspec": {
   "display_name": "Python 3",
   "language": "python",
   "name": "python3"
  },
  "language_info": {
   "codemirror_mode": {
    "name": "ipython",
    "version": 3
   },
   "file_extension": ".py",
   "mimetype": "text/x-python",
   "name": "python",
   "nbconvert_exporter": "python",
   "pygments_lexer": "ipython3",
   "version": "3.6.5"
  }
 },
 "nbformat": 4,
 "nbformat_minor": 2
}
